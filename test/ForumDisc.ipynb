{
 "cells": [
  {
   "cell_type": "markdown",
   "metadata": {},
   "source": [
    "### Exercise 01"
   ]
  },
  {
   "cell_type": "code",
   "execution_count": null,
   "metadata": {},
   "outputs": [],
   "source": [
    "#Init. Constant\n",
    "PI = 3.1415\n",
    "\n",
    "#Input\n",
    "radius = int(input(\"Enter radius: \"))\n",
    "\n",
    "area = PI*radius*radius\n",
    "\n",
    "#Output\n",
    "print(area)\n"
   ]
  },
  {
   "cell_type": "markdown",
   "metadata": {},
   "source": [
    "### Exercise 02"
   ]
  },
  {
   "cell_type": "code",
   "execution_count": null,
   "metadata": {},
   "outputs": [],
   "source": [
    "#Input\n",
    "first_name = input(\"Enter your first name: \")\n",
    "last_name = input(\"Enter your last name: \")\n",
    "\n",
    "#Output\n",
    "print(last_name, first_name)"
   ]
  },
  {
   "cell_type": "markdown",
   "metadata": {},
   "source": [
    "### Exercise 03"
   ]
  },
  {
   "cell_type": "code",
   "execution_count": null,
   "metadata": {},
   "outputs": [],
   "source": [
    "#Init.\n",
    "color_list = [\"Red\",\"Green\",\"White\",\"Black\"]\n",
    "\n",
    "#Output\n",
    "print(color_list[0], color_list[-1])"
   ]
  },
  {
   "cell_type": "markdown",
   "metadata": {},
   "source": [
    "### Exercise 04"
   ]
  },
  {
   "cell_type": "code",
   "execution_count": null,
   "metadata": {},
   "outputs": [],
   "source": [
    "#Input\n",
    "n = int(input(\"Enter an integer: \"))\n",
    "\n",
    "total = n+11*n+111*n\n",
    "\n",
    "#Output\n",
    "print(total)"
   ]
  },
  {
   "cell_type": "markdown",
   "metadata": {},
   "source": [
    "### Exercise 05"
   ]
  },
  {
   "cell_type": "code",
   "execution_count": null,
   "metadata": {},
   "outputs": [],
   "source": [
    "#Init. Constant\n",
    "PI = 3.1415\n",
    "\n",
    "radius = 6\n",
    "volume = 4/3*PI*pow(radius, 3)\n",
    "\n",
    "\n",
    "#Output\n",
    "print(volume)"
   ]
  },
  {
   "cell_type": "markdown",
   "metadata": {},
   "source": [
    "### Exercise 06"
   ]
  },
  {
   "cell_type": "code",
   "execution_count": null,
   "metadata": {},
   "outputs": [],
   "source": [
    "#Input\n",
    "n = int(input(\"Enter an integer: \"))\n",
    "\n",
    "if n>17:\n",
    "    dif = 2*(n-17)\n",
    "else:\n",
    "    dif = 17-n\n",
    "\n",
    "#Output\n",
    "print(dif)"
   ]
  },
  {
   "cell_type": "markdown",
   "metadata": {},
   "source": [
    "### Exercise 07"
   ]
  },
  {
   "cell_type": "code",
   "execution_count": null,
   "metadata": {},
   "outputs": [],
   "source": [
    "#Input\n",
    "n = list(map(int, (input(\"Enter an integer: \").split())))\n",
    "\n",
    "uniform = n.count(n[0])==len(n)\n",
    "total = sum(n)\n",
    "if uniform:\n",
    "    total *= 3\n",
    "\n",
    "#Output\n",
    "print(total)"
   ]
  },
  {
   "cell_type": "markdown",
   "metadata": {},
   "source": [
    "### Exercise 08"
   ]
  },
  {
   "cell_type": "code",
   "execution_count": null,
   "metadata": {},
   "outputs": [],
   "source": [
    "#Input\n",
    "n = int(input(\"Enter an integer: \"))\n",
    "\n",
    "even = n%2 == 0\n",
    "\n",
    "#Output\n",
    "if even:\n",
    "    print(\"Even\")\n",
    "else:\n",
    "    print(\"Odd\")"
   ]
  },
  {
   "cell_type": "markdown",
   "metadata": {},
   "source": [
    "### Exercise 09"
   ]
  },
  {
   "cell_type": "code",
   "execution_count": null,
   "metadata": {},
   "outputs": [],
   "source": [
    "#Init.\n",
    "vowels = {\"a\", \"i\", \"u\", \"e\", \"o\"}\n",
    "\n",
    "#Input\n",
    "char = input(\"Insert any character: \").lower()\n",
    "\n",
    "is_vowel = char in vowels\n",
    "\n",
    "#Output\n",
    "if is_vowel:\n",
    "    print(\"Vowel\")\n",
    "else:\n",
    "    print(\"Not vowel\")"
   ]
  },
  {
   "cell_type": "markdown",
   "metadata": {},
   "source": [
    "### Exercise 10"
   ]
  },
  {
   "cell_type": "code",
   "execution_count": null,
   "metadata": {},
   "outputs": [],
   "source": [
    "#Input\n",
    "n = int(input(\"Insert a number: \"))\n",
    "group = set(map(int, input(\"Insert numbers (in one line) belonging to the group: \").split()))\n",
    "\n",
    "\n",
    "is_member = n in group\n",
    "\n",
    "#Output\n",
    "if is_member:\n",
    "    print(f\"The number {n} is part of the group\")\n",
    "else:\n",
    "        print(f\"The number {n} is not part of the group\")"
   ]
  },
  {
   "cell_type": "markdown",
   "metadata": {},
   "source": [
    "### Exercise 11"
   ]
  },
  {
   "cell_type": "code",
   "execution_count": null,
   "metadata": {},
   "outputs": [],
   "source": [
    "from matplotlib import pyplot as plt\n",
    "#Input\n",
    "n = list(map(int, input(\"Enter list of numbers (in one line): \").split()))\n",
    "\n",
    "#Output\n",
    "plt.hist(n, min(10, len(n)), histtype='bar', rwidth=0.9)"
   ]
  },
  {
   "cell_type": "markdown",
   "metadata": {},
   "source": [
    "### Exercise 12"
   ]
  },
  {
   "cell_type": "code",
   "execution_count": null,
   "metadata": {},
   "outputs": [],
   "source": [
    "#Input\n",
    "numbers = [i for i in map(int, input(\"Enter list of numbers (in one line): \").split()) if i%2 == 0]\n",
    "\n",
    "#Output\n",
    "print(', '.join(map(str, numbers)))"
   ]
  },
  {
   "cell_type": "markdown",
   "metadata": {},
   "source": [
    "### Exercise 13"
   ]
  },
  {
   "cell_type": "code",
   "execution_count": null,
   "metadata": {},
   "outputs": [],
   "source": [
    "#Input\n",
    "base = int(input(\"Enter the base of a triangle: \"))\n",
    "height = int(input(\"Enter the height of a triangle: \"))\n",
    "\n",
    "area = base*height/2\n",
    "\n",
    "#Output\n",
    "print(area)"
   ]
  },
  {
   "cell_type": "markdown",
   "metadata": {},
   "source": [
    "### Exercise 14"
   ]
  },
  {
   "cell_type": "code",
   "execution_count": null,
   "metadata": {},
   "outputs": [],
   "source": [
    "from math import lcm\n",
    "#Input\n",
    "n = set(map(int, input(\"Enter list of numbers (in one line): \").split()))\n",
    "\n",
    "otpt = lcm(*n)\n",
    "\n",
    "#Output\n",
    "print(otpt)"
   ]
  },
  {
   "cell_type": "markdown",
   "metadata": {},
   "source": [
    "### Exercise 15"
   ]
  },
  {
   "cell_type": "code",
   "execution_count": null,
   "metadata": {},
   "outputs": [],
   "source": [
    "#Input\n",
    "n = list(map(int, input(\"Enter 3 integers (in one line): \").split()))\n",
    "\n",
    "valid = len(n) == 3\n",
    "is_valid = True\n",
    "for i in range(2):\n",
    "    if n.count(n[i]) == 2:\n",
    "        is_valid = False\n",
    "\n",
    "#Output\n",
    "if valid:\n",
    "    if is_valid:\n",
    "        print(sum(n))\n",
    "    else:\n",
    "        print(0)\n",
    "else:\n",
    "    print(\"Only 3 integers can be entered!\")"
   ]
  },
  {
   "cell_type": "markdown",
   "metadata": {},
   "source": [
    "### Exercise 16"
   ]
  },
  {
   "cell_type": "code",
   "execution_count": null,
   "metadata": {},
   "outputs": [],
   "source": [
    "#Input\n",
    "x, y = list(map(int, input(\"Solving for (x+y)*(x+y)\\nEnter for value x and y respectively\\n\").split()))\n",
    "\n",
    "total = x+y\n",
    "total *= total\n",
    "\n",
    "#Output\n",
    "print(total)"
   ]
  },
  {
   "cell_type": "markdown",
   "metadata": {},
   "source": [
    "### Exercise 17"
   ]
  },
  {
   "cell_type": "code",
   "execution_count": null,
   "metadata": {},
   "outputs": [],
   "source": [
    "#Input\n",
    "amt, n, y = list(map(float, input(\"Insert the initial amount, rate of interest (in %/years), and duration (in years): \\n\").split()))\n",
    "\n",
    "total = amt*pow(1+n/100, y)\n",
    "\n",
    "#Output\n",
    "print(f'{total:0.2f}')"
   ]
  },
  {
   "cell_type": "markdown",
   "metadata": {},
   "source": [
    "### Exercise 18"
   ]
  },
  {
   "cell_type": "code",
   "execution_count": null,
   "metadata": {},
   "outputs": [],
   "source": [
    "from math import sqrt\n",
    "#Input\n",
    "x1, y1 = list(map(int, input(\"Enter the first coordinate (x, y): \").split()))\n",
    "x2, y2 = list(map(int, input(\"Enter the second coordinate (x, y): \").split()))\n",
    "\n",
    "a = x1-x2\n",
    "b = y1-y2\n",
    "dis = sqrt(a*a + b*b)\n",
    "\n",
    "#Output\n",
    "print(dis)"
   ]
  },
  {
   "cell_type": "markdown",
   "metadata": {},
   "source": [
    "### Exercise 19"
   ]
  },
  {
   "cell_type": "code",
   "execution_count": null,
   "metadata": {},
   "outputs": [],
   "source": [
    "#Input\n",
    "n = int(input(\"Enter a positive integer: \"))\n",
    "\n",
    "total = n*(n+1)//2\n",
    "\n",
    "#Output\n",
    "print(total)"
   ]
  },
  {
   "cell_type": "markdown",
   "metadata": {},
   "source": [
    "### Exercise 20"
   ]
  },
  {
   "cell_type": "code",
   "execution_count": null,
   "metadata": {},
   "outputs": [],
   "source": [
    "#Init. constant\n",
    "FEET_TO_INCH = 12\n",
    "INCH_TO_CM = 2.45\n",
    "\n",
    "#Input\n",
    "feet, inch = list(map(float, input(\"Enter length in feet and inch: \").split()))\n",
    "\n",
    "inch += feet*FEET_TO_INCH\n",
    "cm = inch*INCH_TO_CM\n",
    "\n",
    "#Output\n",
    "print(f'{cm:0.2f}cm')"
   ]
  },
  {
   "cell_type": "markdown",
   "metadata": {},
   "source": [
    "### Exercise 21"
   ]
  },
  {
   "cell_type": "code",
   "execution_count": null,
   "metadata": {},
   "outputs": [],
   "source": [
    "from math import sqrt\n",
    "#Input\n",
    "a, b = list(map(float, input(\"Insert the two smallest side of a right angled triangle: \").split()))\n",
    "\n",
    "hyp = sqrt(a*a + b*b)\n",
    "\n",
    "#Output\n",
    "print(hyp)"
   ]
  },
  {
   "cell_type": "markdown",
   "metadata": {},
   "source": [
    "### Execise 22"
   ]
  },
  {
   "cell_type": "code",
   "execution_count": null,
   "metadata": {},
   "outputs": [],
   "source": [
    "#Init. constant\n",
    "CM_TO_M = 0.01\n",
    "\n",
    "#Input\n",
    "weight, height = list(map(float, input(\"Insert the weight in kg and height i cm\")))\n",
    "\n",
    "height *= CM_TO_M\n",
    "bmi = weight/(height*height)\n",
    "\n",
    "#Output\n",
    "print(bmi)\n"
   ]
  },
  {
   "cell_type": "markdown",
   "metadata": {},
   "source": [
    "### Execise 23"
   ]
  },
  {
   "cell_type": "code",
   "execution_count": null,
   "metadata": {},
   "outputs": [],
   "source": []
  },
  {
   "cell_type": "markdown",
   "metadata": {},
   "source": [
    "### Execise 24"
   ]
  },
  {
   "cell_type": "code",
   "execution_count": null,
   "metadata": {},
   "outputs": [],
   "source": [
    "li = [i for i in range(2000, 3201) if i%7 == 0 and i%5 != 0]\n",
    "\n",
    "#Output\n",
    "print(', '.join(map(str, li)))"
   ]
  }
 ],
 "metadata": {
  "kernelspec": {
   "display_name": "Python 3.10.7 64-bit",
   "language": "python",
   "name": "python3"
  },
  "language_info": {
   "codemirror_mode": {
    "name": "ipython",
    "version": 3
   },
   "file_extension": ".py",
   "mimetype": "text/x-python",
   "name": "python",
   "nbconvert_exporter": "python",
   "pygments_lexer": "ipython3",
   "version": "3.10.7"
  },
  "orig_nbformat": 4,
  "vscode": {
   "interpreter": {
    "hash": "cdcb7a7fdb6d1a5adb53757e1c1920540bb954d331eb6f41f31fd9bbbf0ad9d1"
   }
  }
 },
 "nbformat": 4,
 "nbformat_minor": 2
}
