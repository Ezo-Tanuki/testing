{
 "cells": [
  {
   "cell_type": "markdown",
   "metadata": {},
   "source": [
    "### Exercise 01"
   ]
  },
  {
   "cell_type": "code",
   "execution_count": 3,
   "metadata": {},
   "outputs": [
    {
     "name": "stdout",
     "output_type": "stream",
     "text": [
      "3.1415\n"
     ]
    }
   ],
   "source": [
    "#Init. Constant\n",
    "PI = 3.1415\n",
    "\n",
    "#Input\n",
    "radius = int(input(\"Enter radius: \"))\n",
    "\n",
    "area = PI*radius*radius\n",
    "\n",
    "#Output\n",
    "print(area)\n"
   ]
  },
  {
   "cell_type": "markdown",
   "metadata": {},
   "source": [
    "### Exercise 02"
   ]
  },
  {
   "cell_type": "code",
   "execution_count": 1,
   "metadata": {},
   "outputs": [
    {
     "name": "stdout",
     "output_type": "stream",
     "text": [
      "bryan michial\n"
     ]
    }
   ],
   "source": [
    "#Input\n",
    "first_name = input(\"Enter your first name: \")\n",
    "last_name = input(\"Enter your last name: \")\n",
    "\n",
    "#Output\n",
    "print(last_name, first_name)"
   ]
  },
  {
   "cell_type": "markdown",
   "metadata": {},
   "source": [
    "### Exercise 03"
   ]
  },
  {
   "cell_type": "code",
   "execution_count": null,
   "metadata": {},
   "outputs": [],
   "source": [
    "#Init.\n",
    "color_list = [\"Red\",\"Green\",\"White\",\"Black\"]\n",
    "\n",
    "#Output\n",
    "print(color_list[0], color_list[-1])"
   ]
  },
  {
   "cell_type": "markdown",
   "metadata": {},
   "source": [
    "### Exercise 04"
   ]
  },
  {
   "cell_type": "code",
   "execution_count": 1,
   "metadata": {},
   "outputs": [
    {
     "name": "stdout",
     "output_type": "stream",
     "text": [
      "369\n"
     ]
    }
   ],
   "source": [
    "#Input\n",
    "n = int(input(\"Enter an integer: \"))\n",
    "\n",
    "total = n+11*n+111*n\n",
    "\n",
    "#Output\n",
    "print(total)"
   ]
  },
  {
   "cell_type": "markdown",
   "metadata": {},
   "source": [
    "### Exercise 05"
   ]
  },
  {
   "cell_type": "code",
   "execution_count": 7,
   "metadata": {},
   "outputs": [
    {
     "name": "stdout",
     "output_type": "stream",
     "text": [
      "904.752\n"
     ]
    }
   ],
   "source": [
    "#Init. Constant\n",
    "PI = 3.1415\n",
    "\n",
    "radius = 6\n",
    "volume = 4/3*PI*pow(radius, 3)\n",
    "\n",
    "\n",
    "#Output\n",
    "print(volume)"
   ]
  },
  {
   "cell_type": "markdown",
   "metadata": {},
   "source": [
    "### Exercise 06"
   ]
  },
  {
   "cell_type": "code",
   "execution_count": 9,
   "metadata": {},
   "outputs": [
    {
     "name": "stdout",
     "output_type": "stream",
     "text": [
      "2\n"
     ]
    }
   ],
   "source": [
    "#Input\n",
    "n = int(input(\"Enter an integer: \"))\n",
    "\n",
    "if n>17:\n",
    "    dif = 2*(n-17)\n",
    "else:\n",
    "    dif = 17-n\n",
    "\n",
    "#Output\n",
    "print(dif)"
   ]
  },
  {
   "cell_type": "markdown",
   "metadata": {},
   "source": [
    "### Exercise 07"
   ]
  },
  {
   "cell_type": "code",
   "execution_count": 15,
   "metadata": {},
   "outputs": [
    {
     "name": "stdout",
     "output_type": "stream",
     "text": [
      "18\n"
     ]
    }
   ],
   "source": [
    "#Input\n",
    "n = list(map(int, (input(\"Enter an integer: \").split())))\n",
    "\n",
    "uniform = n.count(n[0])==3\n",
    "total = sum(n)\n",
    "if uniform:\n",
    "    total *= 3\n",
    "\n",
    "#Output\n",
    "print(total)"
   ]
  },
  {
   "cell_type": "markdown",
   "metadata": {},
   "source": [
    "### Exercise 08"
   ]
  },
  {
   "cell_type": "code",
   "execution_count": null,
   "metadata": {},
   "outputs": [],
   "source": [
    "#Input\n",
    "n = int(input(\"Enter an integer: \"))\n",
    "\n",
    "even = n%2 == 0\n",
    "\n",
    "#Output\n",
    "if even:\n",
    "    print(\"Even\")\n",
    "else:\n",
    "    print(\"Odd\")"
   ]
  },
  {
   "cell_type": "markdown",
   "metadata": {},
   "source": [
    "### Exercise 09"
   ]
  },
  {
   "cell_type": "code",
   "execution_count": 32,
   "metadata": {},
   "outputs": [
    {
     "name": "stdout",
     "output_type": "stream",
     "text": [
      "Not vowel\n"
     ]
    }
   ],
   "source": [
    "#Init.\n",
    "vowels = {\"a\", \"i\", \"u\", \"e\", \"o\"}\n",
    "\n",
    "#Input\n",
    "char = input(\"Insert any character: \").lower()\n",
    "\n",
    "is_vowel = char in vowels\n",
    "\n",
    "#Output\n",
    "if is_vowel:\n",
    "    print(\"Vowel\")\n",
    "else:\n",
    "    print(\"Not vowel\")"
   ]
  },
  {
   "cell_type": "markdown",
   "metadata": {},
   "source": [
    "### Exercise 10"
   ]
  },
  {
   "cell_type": "code",
   "execution_count": 39,
   "metadata": {},
   "outputs": [
    {
     "name": "stdout",
     "output_type": "stream",
     "text": [
      "The number 1 is not the part of the group\n"
     ]
    }
   ],
   "source": [
    "#Input\n",
    "n = int(input(\"Insert a number: \"))\n",
    "group = set(map(int, input(\"Insert numbers (in one line) belonging to the group: \").split()))\n",
    "\n",
    "\n",
    "is_member = n in group\n",
    "\n",
    "#Output\n",
    "if is_member:\n",
    "    print(f\"The number {n} is the part of the group\")\n",
    "else:\n",
    "        print(f\"The number {n} is not the part of the group\")"
   ]
  },
  {
   "cell_type": "markdown",
   "metadata": {},
   "source": [
    "### Exercise 11"
   ]
  },
  {
   "cell_type": "code",
   "execution_count": 2,
   "metadata": {},
   "outputs": [
    {
     "data": {
      "text/plain": [
       "(array([0., 2.]), array([0, 1, 2]), <BarContainer object of 2 artists>)"
      ]
     },
     "execution_count": 2,
     "metadata": {},
     "output_type": "execute_result"
    },
    {
     "data": {
      "image/png": "[encoded data removed]",
      "text/plain": [
       "<Figure size 640x480 with 1 Axes>"
      ]
     },
     "metadata": {},
     "output_type": "display_data"
    }
   ],
   "source": [
    "from matplotlib import pyplot as plt\n",
    "\n",
    "#Input\n",
    "n = list(map(int, input(\"Enter list of numbers (in one line): \").split()))\n",
    "\n",
    "#Output\n",
    "plt.hist(n, list(range(len(n))))"
   ]
  }
 ],
 "metadata": {
  "kernelspec": {
   "display_name": "Python 3.10.7 64-bit",
   "language": "python",
   "name": "python3"
  },
  "language_info": {
   "codemirror_mode": {
    "name": "ipython",
    "version": 3
   },
   "file_extension": ".py",
   "mimetype": "text/x-python",
   "name": "python",
   "nbconvert_exporter": "python",
   "pygments_lexer": "ipython3",
   "version": "3.10.7"
  },
  "orig_nbformat": 4,
  "vscode": {
   "interpreter": {
    "hash": "cdcb7a7fdb6d1a5adb53757e1c1920540bb954d331eb6f41f31fd9bbbf0ad9d1"
   }
  }
 },
 "nbformat": 4,
 "nbformat_minor": 2
}
